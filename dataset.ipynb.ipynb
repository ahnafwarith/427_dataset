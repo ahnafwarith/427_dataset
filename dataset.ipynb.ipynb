{
  "cells": [
    {
      "cell_type": "markdown",
      "metadata": {
        "id": "U_AzCjDuF7ab"
      },
      "source": [
        "# Finding the sentiment of page edits"
      ]
    },
    {
      "cell_type": "code",
      "execution_count": 1,
      "metadata": {
        "colab": {
          "base_uri": "https://localhost:8080/"
        },
        "id": "GXia4Z4ea7hE",
        "outputId": "f6830458-78f6-4fa4-ee69-dab8e5f13e76"
      },
      "outputs": [
        {
          "output_type": "stream",
          "name": "stdout",
          "text": [
            "Collecting mwclient\n",
            "  Downloading mwclient-0.10.1-py2.py3-none-any.whl (27 kB)\n",
            "Requirement already satisfied: requests-oauthlib in /usr/local/lib/python3.10/dist-packages (from mwclient) (1.3.1)\n",
            "Requirement already satisfied: six in /usr/local/lib/python3.10/dist-packages (from mwclient) (1.16.0)\n",
            "Requirement already satisfied: oauthlib>=3.0.0 in /usr/local/lib/python3.10/dist-packages (from requests-oauthlib->mwclient) (3.2.2)\n",
            "Requirement already satisfied: requests>=2.0.0 in /usr/local/lib/python3.10/dist-packages (from requests-oauthlib->mwclient) (2.31.0)\n",
            "Requirement already satisfied: charset-normalizer<4,>=2 in /usr/local/lib/python3.10/dist-packages (from requests>=2.0.0->requests-oauthlib->mwclient) (3.3.2)\n",
            "Requirement already satisfied: idna<4,>=2.5 in /usr/local/lib/python3.10/dist-packages (from requests>=2.0.0->requests-oauthlib->mwclient) (3.7)\n",
            "Requirement already satisfied: urllib3<3,>=1.21.1 in /usr/local/lib/python3.10/dist-packages (from requests>=2.0.0->requests-oauthlib->mwclient) (2.0.7)\n",
            "Requirement already satisfied: certifi>=2017.4.17 in /usr/local/lib/python3.10/dist-packages (from requests>=2.0.0->requests-oauthlib->mwclient) (2024.2.2)\n",
            "Installing collected packages: mwclient\n",
            "Successfully installed mwclient-0.10.1\n"
          ]
        }
      ],
      "source": [
        "!pip install mwclient\n",
        "import mwclient\n",
        "#!pip install time\n",
        "import time\n",
        "\n",
        "site= mwclient.Site(\"en.wikipedia.org\")\n",
        "page= site.pages[\"Bitcoin\"]"
      ]
    },
    {
      "cell_type": "code",
      "execution_count": null,
      "metadata": {
        "colab": {
          "base_uri": "https://localhost:8080/"
        },
        "id": "NXkZVCJUgE-d",
        "outputId": "b1f4510d-131f-443b-9aac-1acfc8bdfe8b"
      },
      "outputs": [
        {
          "output_type": "stream",
          "name": "stderr",
          "text": [
            "/usr/local/lib/python3.10/dist-packages/ipykernel/ipkernel.py:283: DeprecationWarning: `should_run_async` will not call `transform_cell` automatically in the future. Please pass the result to `transformed_cell` argument and any exception that happen during thetransform in `preprocessing_exc_tuple` in IPython 7.17 and above.\n",
            "  and should_run_async(code)\n"
          ]
        }
      ],
      "source": [
        "revs= list(page.revisions())\n",
        "\n",
        "# Shows us the latest edit in the special ordered list\n",
        "revs[0]"
      ]
    },
    {
      "cell_type": "code",
      "execution_count": null,
      "metadata": {
        "id": "wq7j5QVyhPig"
      },
      "outputs": [],
      "source": [
        "revs= sorted(revs,key =lambda rev:rev[\"timestamp\"])\n",
        "\n",
        "# Shows the first ever edit in our data\n",
        "revs[0]"
      ]
    },
    {
      "cell_type": "code",
      "execution_count": null,
      "metadata": {
        "id": "9hlu9Vfyhrge"
      },
      "outputs": [],
      "source": [
        "from transformers import pipeline\n",
        "sentiment_pipeline = pipeline(\"sentiment-analysis\")\n",
        "\n",
        "# Decides if the text is positive or negative for example:\n",
        "# I love you = positive number\n",
        "# I hate you = negative number\n",
        "# Note: It's not perfect : we can get a few false positives and false negatives\n",
        "\n",
        "def find_sentiment(text):\n",
        "    sent = sentiment_pipeline([text[:250]])[0]\n",
        "    score = sent[\"score\"]\n",
        "    if sent[\"label\"] == \"NEGATIVE\":\n",
        "        score *= -1\n",
        "    return score\n",
        "\n",
        "find_sentiment(\"I like you\") #returns a number close to -1"
      ]
    },
    {
      "cell_type": "code",
      "execution_count": null,
      "metadata": {
        "id": "mtILKF4_i3zg"
      },
      "outputs": [],
      "source": [
        "edits = {}\n",
        "\n",
        "for rev in revs:\n",
        "    date = time.strftime(\"%Y-%m-%d\", rev[\"timestamp\"])\n",
        "    if date not in edits:\n",
        "        edits[date] = dict(sentiments=list(), edit_count=0)\n",
        "\n",
        "    edits[date][\"edit_count\"] += 1\n",
        "\n",
        "    comment = rev.get(\"comment\", \"\")\n",
        "    edits[date][\"sentiments\"].append(find_sentiment(comment))\n"
      ]
    },
    {
      "cell_type": "code",
      "execution_count": null,
      "metadata": {
        "id": "Q3YHlyufkVe0"
      },
      "outputs": [],
      "source": [
        "from statistics import mean\n",
        "\n",
        "for key in edits:\n",
        "  if len(edits[key][\"sentiments\"])>0:\n",
        "     edits[key][\"sentiment\"] = mean(edits[key][\"sentiments\"])\n",
        "      # gives the percentage of comments that had negative sentiment\n",
        "     edits[key][\"neg_sentiment\"]= len([s for s in edits[key][\"sentiments\"] if s<0])/ len(edits[key][\"sentiments\"])\n",
        "  else:\n",
        "      # 0 is neutral sentiment\n",
        "     edits[key][\"sentiments\"]= 0\n",
        "     edits[key][\"neg_sentiment\"]= 0\n",
        "\n",
        "  del edits[key][\"sentiments\"]\n"
      ]
    },
    {
      "cell_type": "markdown",
      "metadata": {
        "id": "iIUeqVMYGFC0"
      },
      "source": [
        "# Converting sentiment data into a dataframe"
      ]
    },
    {
      "cell_type": "code",
      "execution_count": null,
      "metadata": {
        "id": "97wiNKb4GGFQ"
      },
      "outputs": [],
      "source": [
        "import pandas as pd\n",
        "\n",
        "edits_df = pd.DataFrame.from_dict(edits, orient=\"index\")"
      ]
    },
    {
      "cell_type": "code",
      "execution_count": null,
      "metadata": {
        "id": "gUW65eb9H9g4"
      },
      "outputs": [],
      "source": [
        "edits_df"
      ]
    },
    {
      "cell_type": "code",
      "execution_count": null,
      "metadata": {
        "id": "PGhTU7H-IBQv"
      },
      "outputs": [],
      "source": [
        "edits_df.index = pd.to_datetime(edits_df.index)"
      ]
    },
    {
      "cell_type": "code",
      "execution_count": null,
      "metadata": {
        "id": "pIyu1BURIIZO"
      },
      "outputs": [],
      "source": [
        "from datetime import datetime\n",
        "\n",
        "dates = pd.date_range(start=\"2009-03-08\",end=datetime.today())"
      ]
    },
    {
      "cell_type": "code",
      "execution_count": null,
      "metadata": {
        "id": "Gqi9RrUIIKut"
      },
      "outputs": [],
      "source": [
        "# On the days where there were no edits fill in 0\n",
        "edits_df = edits_df.reindex(dates, fill_value=0)"
      ]
    },
    {
      "cell_type": "code",
      "execution_count": null,
      "metadata": {
        "id": "Jpxym6D2IM-N"
      },
      "outputs": [],
      "source": [
        "edits_df"
      ]
    },
    {
      "cell_type": "code",
      "execution_count": null,
      "metadata": {
        "id": "Q5PBGazAIiwF"
      },
      "outputs": [],
      "source": [
        "rolling_edits = edits_df.rolling(30, min_periods=30).mean()"
      ]
    },
    {
      "cell_type": "code",
      "execution_count": null,
      "metadata": {
        "id": "FDo_NM8zIkXU"
      },
      "outputs": [],
      "source": [
        "rolling_edits = rolling_edits.dropna()\n",
        "# delete rows with missing values"
      ]
    },
    {
      "cell_type": "code",
      "execution_count": null,
      "metadata": {
        "id": "1OOnvEPuImCX"
      },
      "outputs": [],
      "source": [
        "rolling_edits"
      ]
    },
    {
      "cell_type": "code",
      "execution_count": null,
      "metadata": {
        "id": "OJndNO5PIoJz"
      },
      "outputs": [],
      "source": [
        "rolling_edits.to_csv(\"wikipedia_edits.csv\")"
      ]
    },
    {
      "cell_type": "markdown",
      "metadata": {
        "id": "-EonMFJZGGiK"
      },
      "source": []
    },
    {
      "cell_type": "markdown",
      "metadata": {
        "id": "-RwPu6qNGJ_O"
      },
      "source": [
        "# Downloading BITCOIN price data"
      ]
    },
    {
      "cell_type": "code",
      "execution_count": null,
      "metadata": {
        "id": "qm-Ytkc5GOFb"
      },
      "outputs": [],
      "source": [
        "import yfinance as yf\n",
        "import os\n",
        "import pandas as pd"
      ]
    },
    {
      "cell_type": "code",
      "execution_count": null,
      "metadata": {
        "id": "JaVnQ7qVS5J1"
      },
      "outputs": [],
      "source": [
        "btc_ticker = yf.Ticker(\"BTC-USD\")"
      ]
    },
    {
      "cell_type": "code",
      "execution_count": null,
      "metadata": {
        "id": "E-etlfa2S7IH"
      },
      "outputs": [],
      "source": [
        "if os.path.exists(\"btc.csv\"):\n",
        "    btc = pd.read_csv(\"btc.csv\", index_col=0)\n",
        "else:\n",
        "    btc = btc_ticker.history(period=\"max\")\n",
        "    btc.to_csv(\"btc.csv\")"
      ]
    },
    {
      "cell_type": "code",
      "execution_count": null,
      "metadata": {
        "id": "2eYSrW7iS8ta"
      },
      "outputs": [],
      "source": [
        "btc"
      ]
    },
    {
      "cell_type": "code",
      "execution_count": null,
      "metadata": {
        "colab": {
          "background_save": true
        },
        "id": "_fTdcAlyiOh7"
      },
      "outputs": [],
      "source": []
    },
    {
      "cell_type": "markdown",
      "metadata": {
        "id": "kjaVoOSiGOuG"
      },
      "source": [
        "# Preparing data for machine learning"
      ]
    },
    {
      "cell_type": "code",
      "execution_count": null,
      "metadata": {
        "id": "A93olMVoe991"
      },
      "outputs": [],
      "source": [
        "wiki = pd.read_csv(\"wikipedia_edits.csv\", index_col=0, parse_dates=True)\n",
        "wiki"
      ]
    }
  ],
  "metadata": {
    "colab": {
      "provenance": []
    },
    "kernelspec": {
      "display_name": "Python 3",
      "name": "python3"
    },
    "language_info": {
      "name": "python"
    }
  },
  "nbformat": 4,
  "nbformat_minor": 0
}